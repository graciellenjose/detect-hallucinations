{
 "cells": [
  {
   "cell_type": "code",
   "execution_count": null,
   "id": "c451b8db",
   "metadata": {},
   "outputs": [],
   "source": [
    "!pip3 install scikit-learn pandas matplotlib"
   ]
  },
  {
   "cell_type": "code",
   "execution_count": 28,
   "id": "3682e312",
   "metadata": {},
   "outputs": [],
   "source": [
    "import pandas as pd\n",
    "import matplotlib.pyplot as plt\n",
    "\n",
    "from sklearn.metrics import confusion_matrix\n",
    "from sklearn.metrics import ConfusionMatrixDisplay\n",
    "from sklearn.neighbors import KNeighborsClassifier"
   ]
  },
  {
   "cell_type": "markdown",
   "id": "8b55dec3",
   "metadata": {},
   "source": [
    "# Matriz de Confusão"
   ]
  },
  {
   "cell_type": "code",
   "execution_count": 19,
   "id": "2ccbf7c0",
   "metadata": {},
   "outputs": [
    {
     "data": {
      "text/html": [
       "<div>\n",
       "<style scoped>\n",
       "    .dataframe tbody tr th:only-of-type {\n",
       "        vertical-align: middle;\n",
       "    }\n",
       "\n",
       "    .dataframe tbody tr th {\n",
       "        vertical-align: top;\n",
       "    }\n",
       "\n",
       "    .dataframe thead th {\n",
       "        text-align: right;\n",
       "    }\n",
       "</style>\n",
       "<table border=\"1\" class=\"dataframe\">\n",
       "  <thead>\n",
       "    <tr style=\"text-align: right;\">\n",
       "      <th></th>\n",
       "      <th>id</th>\n",
       "      <th>PERGUNTA</th>\n",
       "      <th>RESPOSTA</th>\n",
       "      <th>human_has_input_hallucination</th>\n",
       "      <th>human_has_context_hallucination</th>\n",
       "      <th>human_has_factual_hallucination</th>\n",
       "      <th>llama_has_input_hallucination</th>\n",
       "      <th>llama_has_context_hallucination</th>\n",
       "      <th>llama_has_factual_hallucination</th>\n",
       "      <th>gpt_has_input_hallucination</th>\n",
       "      <th>gpt_has_context_hallucination</th>\n",
       "      <th>gpt_has_factual_hallucination</th>\n",
       "    </tr>\n",
       "  </thead>\n",
       "  <tbody>\n",
       "    <tr>\n",
       "      <th>0</th>\n",
       "      <td>1</td>\n",
       "      <td>O que caracteriza o crime de peculato?</td>\n",
       "      <td>O crime de peculato é caracterizado por apropr...</td>\n",
       "      <td>0</td>\n",
       "      <td>0</td>\n",
       "      <td>0</td>\n",
       "      <td>0</td>\n",
       "      <td>0</td>\n",
       "      <td>0</td>\n",
       "      <td>0</td>\n",
       "      <td>0</td>\n",
       "      <td>0</td>\n",
       "    </tr>\n",
       "    <tr>\n",
       "      <th>1</th>\n",
       "      <td>2</td>\n",
       "      <td>Qual a pena prevista para injúria quando há ut...</td>\n",
       "      <td>A pena prevista para injúria quando há utiliza...</td>\n",
       "      <td>0</td>\n",
       "      <td>0</td>\n",
       "      <td>0</td>\n",
       "      <td>0</td>\n",
       "      <td>0</td>\n",
       "      <td>0</td>\n",
       "      <td>0</td>\n",
       "      <td>0</td>\n",
       "      <td>0</td>\n",
       "    </tr>\n",
       "    <tr>\n",
       "      <th>2</th>\n",
       "      <td>3</td>\n",
       "      <td>O que caracteriza o feminicídio?</td>\n",
       "      <td>O feminicídio é uma qualificadora do crime de ...</td>\n",
       "      <td>0</td>\n",
       "      <td>0</td>\n",
       "      <td>0</td>\n",
       "      <td>0</td>\n",
       "      <td>0</td>\n",
       "      <td>0</td>\n",
       "      <td>0</td>\n",
       "      <td>0</td>\n",
       "      <td>0</td>\n",
       "    </tr>\n",
       "    <tr>\n",
       "      <th>3</th>\n",
       "      <td>4</td>\n",
       "      <td>Quais ações constituem o crime de extorsão?</td>\n",
       "      <td>Constituem o crime de extorsão as ações de con...</td>\n",
       "      <td>0</td>\n",
       "      <td>0</td>\n",
       "      <td>0</td>\n",
       "      <td>0</td>\n",
       "      <td>0</td>\n",
       "      <td>0</td>\n",
       "      <td>0</td>\n",
       "      <td>0</td>\n",
       "      <td>0</td>\n",
       "    </tr>\n",
       "    <tr>\n",
       "      <th>4</th>\n",
       "      <td>5</td>\n",
       "      <td>O que caracteriza a legítima defesa?</td>\n",
       "      <td>A legítima defesa é caracterizada por repelir ...</td>\n",
       "      <td>0</td>\n",
       "      <td>0</td>\n",
       "      <td>0</td>\n",
       "      <td>0</td>\n",
       "      <td>0</td>\n",
       "      <td>0</td>\n",
       "      <td>0</td>\n",
       "      <td>0</td>\n",
       "      <td>0</td>\n",
       "    </tr>\n",
       "    <tr>\n",
       "      <th>5</th>\n",
       "      <td>6</td>\n",
       "      <td>O que caracteriza o crime de corrupção passiva?</td>\n",
       "      <td>O crime de corrupção ativa é caracterizado por...</td>\n",
       "      <td>1</td>\n",
       "      <td>0</td>\n",
       "      <td>0</td>\n",
       "      <td>1</td>\n",
       "      <td>0</td>\n",
       "      <td>0</td>\n",
       "      <td>1</td>\n",
       "      <td>0</td>\n",
       "      <td>0</td>\n",
       "    </tr>\n",
       "    <tr>\n",
       "      <th>6</th>\n",
       "      <td>7</td>\n",
       "      <td>Qual é a pena para o crime de homicídio simples?</td>\n",
       "      <td>A pena para o crime de homicídio culposo é de ...</td>\n",
       "      <td>1</td>\n",
       "      <td>0</td>\n",
       "      <td>0</td>\n",
       "      <td>1</td>\n",
       "      <td>0</td>\n",
       "      <td>1</td>\n",
       "      <td>1</td>\n",
       "      <td>0</td>\n",
       "      <td>1</td>\n",
       "    </tr>\n",
       "    <tr>\n",
       "      <th>7</th>\n",
       "      <td>8</td>\n",
       "      <td>Qual é a pena para o crime de lesão corporal c...</td>\n",
       "      <td>A pena para o crime de lesão corporal de natur...</td>\n",
       "      <td>1</td>\n",
       "      <td>0</td>\n",
       "      <td>0</td>\n",
       "      <td>1</td>\n",
       "      <td>0</td>\n",
       "      <td>1</td>\n",
       "      <td>1</td>\n",
       "      <td>0</td>\n",
       "      <td>0</td>\n",
       "    </tr>\n",
       "    <tr>\n",
       "      <th>8</th>\n",
       "      <td>9</td>\n",
       "      <td>Qual é a pena para o crime de furto simples?</td>\n",
       "      <td>A pena para o crime de furto qualificado é de ...</td>\n",
       "      <td>1</td>\n",
       "      <td>0</td>\n",
       "      <td>0</td>\n",
       "      <td>1</td>\n",
       "      <td>0</td>\n",
       "      <td>1</td>\n",
       "      <td>1</td>\n",
       "      <td>0</td>\n",
       "      <td>1</td>\n",
       "    </tr>\n",
       "    <tr>\n",
       "      <th>9</th>\n",
       "      <td>10</td>\n",
       "      <td>Como a legislação penal brasileira trata o rei...</td>\n",
       "      <td>A legislação penal estrangeira não tipifica di...</td>\n",
       "      <td>1</td>\n",
       "      <td>0</td>\n",
       "      <td>0</td>\n",
       "      <td>0</td>\n",
       "      <td>0</td>\n",
       "      <td>0</td>\n",
       "      <td>0</td>\n",
       "      <td>0</td>\n",
       "      <td>0</td>\n",
       "    </tr>\n",
       "    <tr>\n",
       "      <th>10</th>\n",
       "      <td>11</td>\n",
       "      <td>O que é considerado estado de necessidade?</td>\n",
       "      <td>Considera-se em estado de necessidade quem pra...</td>\n",
       "      <td>0</td>\n",
       "      <td>1</td>\n",
       "      <td>0</td>\n",
       "      <td>0</td>\n",
       "      <td>0</td>\n",
       "      <td>0</td>\n",
       "      <td>0</td>\n",
       "      <td>0</td>\n",
       "      <td>0</td>\n",
       "    </tr>\n",
       "    <tr>\n",
       "      <th>11</th>\n",
       "      <td>12</td>\n",
       "      <td>Como o Código Penal regula o crime de sequestr...</td>\n",
       "      <td>O Código Penal regula o crime de sequestro e c...</td>\n",
       "      <td>0</td>\n",
       "      <td>1</td>\n",
       "      <td>0</td>\n",
       "      <td>0</td>\n",
       "      <td>0</td>\n",
       "      <td>1</td>\n",
       "      <td>0</td>\n",
       "      <td>0</td>\n",
       "      <td>0</td>\n",
       "    </tr>\n",
       "    <tr>\n",
       "      <th>12</th>\n",
       "      <td>13</td>\n",
       "      <td>Quais fatores podem reduzir o prazo de prescri...</td>\n",
       "      <td>O prazo de prescrição do crime é reduzido pela...</td>\n",
       "      <td>0</td>\n",
       "      <td>1</td>\n",
       "      <td>0</td>\n",
       "      <td>0</td>\n",
       "      <td>0</td>\n",
       "      <td>1</td>\n",
       "      <td>0</td>\n",
       "      <td>1</td>\n",
       "      <td>1</td>\n",
       "    </tr>\n",
       "    <tr>\n",
       "      <th>13</th>\n",
       "      <td>14</td>\n",
       "      <td>O que caracteriza o crime de tráfico de pessoas?</td>\n",
       "      <td>O crime de tráfico de pessoas é caracterizado ...</td>\n",
       "      <td>0</td>\n",
       "      <td>1</td>\n",
       "      <td>0</td>\n",
       "      <td>1</td>\n",
       "      <td>1</td>\n",
       "      <td>1</td>\n",
       "      <td>1</td>\n",
       "      <td>1</td>\n",
       "      <td>1</td>\n",
       "    </tr>\n",
       "    <tr>\n",
       "      <th>14</th>\n",
       "      <td>15</td>\n",
       "      <td>Quais práticas configuram o crime de falsifica...</td>\n",
       "      <td>Configuram o crime de falsificação de document...</td>\n",
       "      <td>0</td>\n",
       "      <td>1</td>\n",
       "      <td>0</td>\n",
       "      <td>0</td>\n",
       "      <td>0</td>\n",
       "      <td>0</td>\n",
       "      <td>0</td>\n",
       "      <td>0</td>\n",
       "      <td>0</td>\n",
       "    </tr>\n",
       "    <tr>\n",
       "      <th>15</th>\n",
       "      <td>16</td>\n",
       "      <td>O que é considerado território nacional para e...</td>\n",
       "      <td>Para efeitos penais, o território nacional abr...</td>\n",
       "      <td>0</td>\n",
       "      <td>0</td>\n",
       "      <td>1</td>\n",
       "      <td>0</td>\n",
       "      <td>0</td>\n",
       "      <td>0</td>\n",
       "      <td>0</td>\n",
       "      <td>0</td>\n",
       "      <td>0</td>\n",
       "    </tr>\n",
       "    <tr>\n",
       "      <th>16</th>\n",
       "      <td>17</td>\n",
       "      <td>O que caracteriza o crime de calúnia?</td>\n",
       "      <td>O crime de calúnia caracteriza-se por ofender ...</td>\n",
       "      <td>0</td>\n",
       "      <td>0</td>\n",
       "      <td>1</td>\n",
       "      <td>0</td>\n",
       "      <td>1</td>\n",
       "      <td>0</td>\n",
       "      <td>0</td>\n",
       "      <td>1</td>\n",
       "      <td>1</td>\n",
       "    </tr>\n",
       "    <tr>\n",
       "      <th>17</th>\n",
       "      <td>18</td>\n",
       "      <td>Como o código trata o crime de difamação quand...</td>\n",
       "      <td>No crime de difamação, a exceção da verdade (p...</td>\n",
       "      <td>0</td>\n",
       "      <td>0</td>\n",
       "      <td>1</td>\n",
       "      <td>0</td>\n",
       "      <td>0</td>\n",
       "      <td>1</td>\n",
       "      <td>0</td>\n",
       "      <td>0</td>\n",
       "      <td>0</td>\n",
       "    </tr>\n",
       "    <tr>\n",
       "      <th>18</th>\n",
       "      <td>19</td>\n",
       "      <td>Como o Código Penal trata o crime de dano qual...</td>\n",
       "      <td>O Código Penal prevê o crime de dano qualifica...</td>\n",
       "      <td>0</td>\n",
       "      <td>0</td>\n",
       "      <td>1</td>\n",
       "      <td>1</td>\n",
       "      <td>0</td>\n",
       "      <td>1</td>\n",
       "      <td>1</td>\n",
       "      <td>1</td>\n",
       "      <td>1</td>\n",
       "    </tr>\n",
       "    <tr>\n",
       "      <th>19</th>\n",
       "      <td>20</td>\n",
       "      <td>O que acontece se uma lei posterior deixar de ...</td>\n",
       "      <td>Isso é conhecido como abolitio criminis. Confo...</td>\n",
       "      <td>0</td>\n",
       "      <td>0</td>\n",
       "      <td>1</td>\n",
       "      <td>0</td>\n",
       "      <td>1</td>\n",
       "      <td>1</td>\n",
       "      <td>0</td>\n",
       "      <td>1</td>\n",
       "      <td>1</td>\n",
       "    </tr>\n",
       "    <tr>\n",
       "      <th>20</th>\n",
       "      <td>21</td>\n",
       "      <td>Qual é a pena para o crime de exercício ilegal...</td>\n",
       "      <td>A pena para o crime de exercício legal da medi...</td>\n",
       "      <td>1</td>\n",
       "      <td>1</td>\n",
       "      <td>1</td>\n",
       "      <td>1</td>\n",
       "      <td>1</td>\n",
       "      <td>1</td>\n",
       "      <td>1</td>\n",
       "      <td>1</td>\n",
       "      <td>1</td>\n",
       "    </tr>\n",
       "    <tr>\n",
       "      <th>21</th>\n",
       "      <td>22</td>\n",
       "      <td>Em que condições o condenado poderá exercer tr...</td>\n",
       "      <td>O condenado em regime semiaberto poderá exerce...</td>\n",
       "      <td>1</td>\n",
       "      <td>1</td>\n",
       "      <td>1</td>\n",
       "      <td>1</td>\n",
       "      <td>1</td>\n",
       "      <td>1</td>\n",
       "      <td>1</td>\n",
       "      <td>0</td>\n",
       "      <td>1</td>\n",
       "    </tr>\n",
       "    <tr>\n",
       "      <th>22</th>\n",
       "      <td>23</td>\n",
       "      <td>O que é o crime de descaminho?</td>\n",
       "      <td>O crime de descaminho se enquadra no contraban...</td>\n",
       "      <td>1</td>\n",
       "      <td>1</td>\n",
       "      <td>1</td>\n",
       "      <td>0</td>\n",
       "      <td>0</td>\n",
       "      <td>0</td>\n",
       "      <td>0</td>\n",
       "      <td>0</td>\n",
       "      <td>1</td>\n",
       "    </tr>\n",
       "    <tr>\n",
       "      <th>23</th>\n",
       "      <td>24</td>\n",
       "      <td>Quais as agravantes para o homicídio qualifica...</td>\n",
       "      <td>Homicídio doloso consiste em uma pessoa tirar ...</td>\n",
       "      <td>1</td>\n",
       "      <td>1</td>\n",
       "      <td>1</td>\n",
       "      <td>1</td>\n",
       "      <td>1</td>\n",
       "      <td>1</td>\n",
       "      <td>1</td>\n",
       "      <td>1</td>\n",
       "      <td>1</td>\n",
       "    </tr>\n",
       "    <tr>\n",
       "      <th>24</th>\n",
       "      <td>25</td>\n",
       "      <td>O que caracteriza o crime doloso?</td>\n",
       "      <td>O crime culposo é caracterizado pela intenção ...</td>\n",
       "      <td>1</td>\n",
       "      <td>1</td>\n",
       "      <td>1</td>\n",
       "      <td>1</td>\n",
       "      <td>0</td>\n",
       "      <td>0</td>\n",
       "      <td>1</td>\n",
       "      <td>1</td>\n",
       "      <td>1</td>\n",
       "    </tr>\n",
       "  </tbody>\n",
       "</table>\n",
       "</div>"
      ],
      "text/plain": [
       "    id                                           PERGUNTA  \\\n",
       "0    1             O que caracteriza o crime de peculato?   \n",
       "1    2  Qual a pena prevista para injúria quando há ut...   \n",
       "2    3                   O que caracteriza o feminicídio?   \n",
       "3    4        Quais ações constituem o crime de extorsão?   \n",
       "4    5               O que caracteriza a legítima defesa?   \n",
       "5    6    O que caracteriza o crime de corrupção passiva?   \n",
       "6    7   Qual é a pena para o crime de homicídio simples?   \n",
       "7    8  Qual é a pena para o crime de lesão corporal c...   \n",
       "8    9       Qual é a pena para o crime de furto simples?   \n",
       "9   10  Como a legislação penal brasileira trata o rei...   \n",
       "10  11         O que é considerado estado de necessidade?   \n",
       "11  12  Como o Código Penal regula o crime de sequestr...   \n",
       "12  13  Quais fatores podem reduzir o prazo de prescri...   \n",
       "13  14   O que caracteriza o crime de tráfico de pessoas?   \n",
       "14  15  Quais práticas configuram o crime de falsifica...   \n",
       "15  16  O que é considerado território nacional para e...   \n",
       "16  17              O que caracteriza o crime de calúnia?   \n",
       "17  18  Como o código trata o crime de difamação quand...   \n",
       "18  19  Como o Código Penal trata o crime de dano qual...   \n",
       "19  20  O que acontece se uma lei posterior deixar de ...   \n",
       "20  21  Qual é a pena para o crime de exercício ilegal...   \n",
       "21  22  Em que condições o condenado poderá exercer tr...   \n",
       "22  23                     O que é o crime de descaminho?   \n",
       "23  24  Quais as agravantes para o homicídio qualifica...   \n",
       "24  25                  O que caracteriza o crime doloso?   \n",
       "\n",
       "                                             RESPOSTA  \\\n",
       "0   O crime de peculato é caracterizado por apropr...   \n",
       "1   A pena prevista para injúria quando há utiliza...   \n",
       "2   O feminicídio é uma qualificadora do crime de ...   \n",
       "3   Constituem o crime de extorsão as ações de con...   \n",
       "4   A legítima defesa é caracterizada por repelir ...   \n",
       "5   O crime de corrupção ativa é caracterizado por...   \n",
       "6   A pena para o crime de homicídio culposo é de ...   \n",
       "7   A pena para o crime de lesão corporal de natur...   \n",
       "8   A pena para o crime de furto qualificado é de ...   \n",
       "9   A legislação penal estrangeira não tipifica di...   \n",
       "10  Considera-se em estado de necessidade quem pra...   \n",
       "11  O Código Penal regula o crime de sequestro e c...   \n",
       "12  O prazo de prescrição do crime é reduzido pela...   \n",
       "13  O crime de tráfico de pessoas é caracterizado ...   \n",
       "14  Configuram o crime de falsificação de document...   \n",
       "15  Para efeitos penais, o território nacional abr...   \n",
       "16  O crime de calúnia caracteriza-se por ofender ...   \n",
       "17  No crime de difamação, a exceção da verdade (p...   \n",
       "18  O Código Penal prevê o crime de dano qualifica...   \n",
       "19  Isso é conhecido como abolitio criminis. Confo...   \n",
       "20  A pena para o crime de exercício legal da medi...   \n",
       "21  O condenado em regime semiaberto poderá exerce...   \n",
       "22  O crime de descaminho se enquadra no contraban...   \n",
       "23  Homicídio doloso consiste em uma pessoa tirar ...   \n",
       "24  O crime culposo é caracterizado pela intenção ...   \n",
       "\n",
       "    human_has_input_hallucination  human_has_context_hallucination  \\\n",
       "0                               0                                0   \n",
       "1                               0                                0   \n",
       "2                               0                                0   \n",
       "3                               0                                0   \n",
       "4                               0                                0   \n",
       "5                               1                                0   \n",
       "6                               1                                0   \n",
       "7                               1                                0   \n",
       "8                               1                                0   \n",
       "9                               1                                0   \n",
       "10                              0                                1   \n",
       "11                              0                                1   \n",
       "12                              0                                1   \n",
       "13                              0                                1   \n",
       "14                              0                                1   \n",
       "15                              0                                0   \n",
       "16                              0                                0   \n",
       "17                              0                                0   \n",
       "18                              0                                0   \n",
       "19                              0                                0   \n",
       "20                              1                                1   \n",
       "21                              1                                1   \n",
       "22                              1                                1   \n",
       "23                              1                                1   \n",
       "24                              1                                1   \n",
       "\n",
       "    human_has_factual_hallucination  llama_has_input_hallucination  \\\n",
       "0                                 0                              0   \n",
       "1                                 0                              0   \n",
       "2                                 0                              0   \n",
       "3                                 0                              0   \n",
       "4                                 0                              0   \n",
       "5                                 0                              1   \n",
       "6                                 0                              1   \n",
       "7                                 0                              1   \n",
       "8                                 0                              1   \n",
       "9                                 0                              0   \n",
       "10                                0                              0   \n",
       "11                                0                              0   \n",
       "12                                0                              0   \n",
       "13                                0                              1   \n",
       "14                                0                              0   \n",
       "15                                1                              0   \n",
       "16                                1                              0   \n",
       "17                                1                              0   \n",
       "18                                1                              1   \n",
       "19                                1                              0   \n",
       "20                                1                              1   \n",
       "21                                1                              1   \n",
       "22                                1                              0   \n",
       "23                                1                              1   \n",
       "24                                1                              1   \n",
       "\n",
       "    llama_has_context_hallucination  llama_has_factual_hallucination  \\\n",
       "0                                 0                                0   \n",
       "1                                 0                                0   \n",
       "2                                 0                                0   \n",
       "3                                 0                                0   \n",
       "4                                 0                                0   \n",
       "5                                 0                                0   \n",
       "6                                 0                                1   \n",
       "7                                 0                                1   \n",
       "8                                 0                                1   \n",
       "9                                 0                                0   \n",
       "10                                0                                0   \n",
       "11                                0                                1   \n",
       "12                                0                                1   \n",
       "13                                1                                1   \n",
       "14                                0                                0   \n",
       "15                                0                                0   \n",
       "16                                1                                0   \n",
       "17                                0                                1   \n",
       "18                                0                                1   \n",
       "19                                1                                1   \n",
       "20                                1                                1   \n",
       "21                                1                                1   \n",
       "22                                0                                0   \n",
       "23                                1                                1   \n",
       "24                                0                                0   \n",
       "\n",
       "    gpt_has_input_hallucination  gpt_has_context_hallucination  \\\n",
       "0                             0                              0   \n",
       "1                             0                              0   \n",
       "2                             0                              0   \n",
       "3                             0                              0   \n",
       "4                             0                              0   \n",
       "5                             1                              0   \n",
       "6                             1                              0   \n",
       "7                             1                              0   \n",
       "8                             1                              0   \n",
       "9                             0                              0   \n",
       "10                            0                              0   \n",
       "11                            0                              0   \n",
       "12                            0                              1   \n",
       "13                            1                              1   \n",
       "14                            0                              0   \n",
       "15                            0                              0   \n",
       "16                            0                              1   \n",
       "17                            0                              0   \n",
       "18                            1                              1   \n",
       "19                            0                              1   \n",
       "20                            1                              1   \n",
       "21                            1                              0   \n",
       "22                            0                              0   \n",
       "23                            1                              1   \n",
       "24                            1                              1   \n",
       "\n",
       "    gpt_has_factual_hallucination  \n",
       "0                               0  \n",
       "1                               0  \n",
       "2                               0  \n",
       "3                               0  \n",
       "4                               0  \n",
       "5                               0  \n",
       "6                               1  \n",
       "7                               0  \n",
       "8                               1  \n",
       "9                               0  \n",
       "10                              0  \n",
       "11                              0  \n",
       "12                              1  \n",
       "13                              1  \n",
       "14                              0  \n",
       "15                              0  \n",
       "16                              1  \n",
       "17                              0  \n",
       "18                              1  \n",
       "19                              1  \n",
       "20                              1  \n",
       "21                              1  \n",
       "22                              1  \n",
       "23                              1  \n",
       "24                              1  "
      ]
     },
     "execution_count": 19,
     "metadata": {},
     "output_type": "execute_result"
    }
   ],
   "source": [
    "df_veredict = pd.read_csv(\"veredict/has_hallucination.csv\", index_col=False)\n",
    "\n",
    "df_veredict"
   ]
  },
  {
   "cell_type": "code",
   "execution_count": 20,
   "id": "a47454f0",
   "metadata": {},
   "outputs": [],
   "source": [
    "#Extraindo as colunas com o julgamento humano primeiro, pois elas serão usadas em ambos os casos\n",
    "\n",
    "human_judge_input = []\n",
    "human_judge_context = []\n",
    "human_judge_factual = []\n",
    "    \n",
    "for idx, row in df_veredict.iterrows():\n",
    "        \n",
    "    human_input_hallucination = row[\"human_has_input_hallucination\"]\n",
    "    human_contextual_hallucination = row[\"human_has_context_hallucination\"]\n",
    "    human_factual_hallucination = row[\"human_has_factual_hallucination\"]   \n",
    "\n",
    "    \n",
    "    human_judge_input.append(human_input_hallucination)\n",
    "    human_judge_context.append(human_contextual_hallucination)\n",
    "    human_judge_factual.append(human_factual_hallucination)\n",
    "        "
   ]
  },
  {
   "cell_type": "code",
   "execution_count": 21,
   "id": "e19c430d",
   "metadata": {},
   "outputs": [
    {
     "name": "stdout",
     "output_type": "stream",
     "text": [
      "[0, 0, 0, 0, 0, 1, 1, 1, 1, 1, 0, 0, 0, 0, 0, 0, 0, 0, 0, 0, 1, 1, 1, 1, 1]\n",
      "[0, 0, 0, 0, 0, 0, 0, 0, 0, 0, 1, 1, 1, 1, 1, 0, 0, 0, 0, 0, 1, 1, 1, 1, 1]\n",
      "[0, 0, 0, 0, 0, 0, 0, 0, 0, 0, 0, 0, 0, 0, 0, 1, 1, 1, 1, 1, 1, 1, 1, 1, 1]\n"
     ]
    }
   ],
   "source": [
    "print(human_judge_input)\n",
    "print(human_judge_context)\n",
    "print(human_judge_factual)"
   ]
  },
  {
   "cell_type": "code",
   "execution_count": 22,
   "id": "671a397c",
   "metadata": {},
   "outputs": [],
   "source": [
    "def get_hallucinations(judge=\"\"):\n",
    "    input_hallucination = []\n",
    "    context_hallucination = []\n",
    "    factual_hallucination = []\n",
    "    \n",
    "    for idx, row in df_veredict.iterrows():\n",
    "        \n",
    "        has_input_hallucination = row[f\"{judge}_has_input_hallucination\"]\n",
    "        has_contextual_hallucination = row[f\"{judge}_has_context_hallucination\"]\n",
    "        has_factual_hallucination = row[f\"{judge}_has_factual_hallucination\"]   \n",
    "\n",
    "        \n",
    "        input_hallucination.append(has_input_hallucination)\n",
    "        context_hallucination.append(has_contextual_hallucination)\n",
    "        factual_hallucination.append(has_factual_hallucination)\n",
    "        \n",
    "    return {\n",
    "        \"input\": input_hallucination,\n",
    "        \"context\": context_hallucination,\n",
    "        \"factual\":factual_hallucination\n",
    "    }"
   ]
  },
  {
   "cell_type": "code",
   "execution_count": 23,
   "id": "dc06829e",
   "metadata": {},
   "outputs": [],
   "source": [
    "def create_confusion_matrix(true, pred):\n",
    "    cf_matrix = confusion_matrix(true, pred)\n",
    "    return cf_matrix"
   ]
  },
  {
   "cell_type": "markdown",
   "id": "83e815dc",
   "metadata": {},
   "source": [
    "## Llama"
   ]
  },
  {
   "cell_type": "code",
   "execution_count": 24,
   "id": "abc92d51",
   "metadata": {},
   "outputs": [],
   "source": [
    "llama_judge = get_hallucinations(judge=\"llama\")"
   ]
  },
  {
   "cell_type": "code",
   "execution_count": 25,
   "id": "c70d28c5",
   "metadata": {},
   "outputs": [],
   "source": [
    "llama_input = llama_judge[\"input\"]\n",
    "llama_context = llama_judge[\"context\"]\n",
    "llama_factual = llama_judge[\"factual\"]"
   ]
  },
  {
   "cell_type": "markdown",
   "id": "504c06d1",
   "metadata": {},
   "source": [
    "### Alucinações de input"
   ]
  },
  {
   "cell_type": "code",
   "execution_count": null,
   "id": "b0be1e31",
   "metadata": {},
   "outputs": [],
   "source": [
    "input_cm = create_confusion_matrix(human_judge_input, llama_input)"
   ]
  },
  {
   "cell_type": "code",
   "execution_count": null,
   "id": "e6f4ce05",
   "metadata": {},
   "outputs": [
    {
     "name": "stdout",
     "output_type": "stream",
     "text": [
      "True Negative: 13\n",
      "False Positive: 2\n",
      "False Negative: 2\n",
      "True Positive: 8\n"
     ]
    }
   ],
   "source": [
    "print(f\"True Negative: {input_cm[0][0]}\")\n",
    "print(f\"False Positive: {input_cm[0][1]}\")\n",
    "print(f\"False Negative: {input_cm[1][0]}\")\n",
    "print(f\"True Positive: {input_cm[1][1]}\")"
   ]
  },
  {
   "cell_type": "code",
   "execution_count": null,
   "id": "9b837b23",
   "metadata": {},
   "outputs": [
    {
     "data": {
      "image/png": "[encoded data removed]",
      "text/plain": [
       "<Figure size 640x480 with 2 Axes>"
      ]
     },
     "metadata": {},
     "output_type": "display_data"
    }
   ],
   "source": [
    "labels = [\"Negative\", \"Positive\"]\n",
    "cm_display = ConfusionMatrixDisplay(confusion_matrix=input_cm, display_labels=labels)\n",
    "\n",
    "cm_display.plot()\n",
    "\n",
    "plt.title('Matriz de Confusão — Alucinações de Input')\n",
    "plt.show()"
   ]
  },
  {
   "cell_type": "markdown",
   "id": "3484008f",
   "metadata": {},
   "source": [
    "### Alucinações contextuis"
   ]
  },
  {
   "cell_type": "code",
   "execution_count": 41,
   "id": "b9d3e9e7",
   "metadata": {},
   "outputs": [],
   "source": [
    "context_cm = create_confusion_matrix(human_judge_context, llama_context)"
   ]
  },
  {
   "cell_type": "code",
   "execution_count": 42,
   "id": "89079048",
   "metadata": {},
   "outputs": [
    {
     "name": "stdout",
     "output_type": "stream",
     "text": [
      "True Negative: 13\n",
      "False Positive: 2\n",
      "False Negative: 6\n",
      "True Positive: 4\n"
     ]
    }
   ],
   "source": [
    "print(f\"True Negative: {context_cm[0][0]}\")\n",
    "print(f\"False Positive: {context_cm[0][1]}\")\n",
    "print(f\"False Negative: {context_cm[1][0]}\")\n",
    "print(f\"True Positive: {context_cm[1][1]}\")"
   ]
  },
  {
   "cell_type": "code",
   "execution_count": 43,
   "id": "1742e706",
   "metadata": {},
   "outputs": [
    {
     "data": {
      "image/png": "[encoded data removed]",
      "text/plain": [
       "<Figure size 640x480 with 2 Axes>"
      ]
     },
     "metadata": {},
     "output_type": "display_data"
    }
   ],
   "source": [
    "labels = [\"Negative\", \"Positive\"]\n",
    "cm_display = ConfusionMatrixDisplay(confusion_matrix=context_cm, display_labels=labels)\n",
    "\n",
    "cm_display.plot()\n",
    "\n",
    "plt.title('Matriz de Confusão — Alucinações Contextuais')\n",
    "plt.show()"
   ]
  },
  {
   "cell_type": "markdown",
   "id": "adda078d",
   "metadata": {},
   "source": [
    "### Alucinações de factuais"
   ]
  },
  {
   "cell_type": "code",
   "execution_count": 44,
   "id": "5738b559",
   "metadata": {},
   "outputs": [],
   "source": [
    "factual_cm = create_confusion_matrix(human_judge_factual, llama_factual)"
   ]
  },
  {
   "cell_type": "code",
   "execution_count": 45,
   "id": "97a84a8e",
   "metadata": {},
   "outputs": [
    {
     "name": "stdout",
     "output_type": "stream",
     "text": [
      "True Negative: 9\n",
      "False Positive: 6\n",
      "False Negative: 4\n",
      "True Positive: 6\n"
     ]
    }
   ],
   "source": [
    "print(f\"True Negative: {factual_cm[0][0]}\")\n",
    "print(f\"False Positive: {factual_cm[0][1]}\")\n",
    "print(f\"False Negative: {factual_cm[1][0]}\")\n",
    "print(f\"True Positive: {factual_cm[1][1]}\")"
   ]
  },
  {
   "cell_type": "code",
   "execution_count": 47,
   "id": "0af73a00",
   "metadata": {},
   "outputs": [
    {
     "data": {
      "image/png": "[encoded data removed]",
      "text/plain": [
       "<Figure size 640x480 with 2 Axes>"
      ]
     },
     "metadata": {},
     "output_type": "display_data"
    }
   ],
   "source": [
    "labels = [\"Negative\", \"Positive\"]\n",
    "cm_display = ConfusionMatrixDisplay(confusion_matrix=factual_cm, display_labels=labels)\n",
    "\n",
    "cm_display.plot()\n",
    "\n",
    "plt.title('Matriz de Confusão — Alucinações Factuais')\n",
    "plt.show()"
   ]
  },
  {
   "cell_type": "code",
   "execution_count": null,
   "id": "c3b7abf7",
   "metadata": {},
   "outputs": [],
   "source": []
  },
  {
   "cell_type": "markdown",
   "id": "9a9e509d",
   "metadata": {},
   "source": [
    "## GPT"
   ]
  },
  {
   "cell_type": "code",
   "execution_count": 48,
   "id": "6d7b7d68",
   "metadata": {},
   "outputs": [],
   "source": [
    "gpt_judge = get_hallucinations(judge=\"gpt\")"
   ]
  },
  {
   "cell_type": "code",
   "execution_count": 49,
   "id": "2eea63c0",
   "metadata": {},
   "outputs": [],
   "source": [
    "gpt_input = gpt_judge[\"input\"]\n",
    "gpt_context = gpt_judge[\"context\"]\n",
    "gpt_factual = gpt_judge[\"factual\"]"
   ]
  },
  {
   "cell_type": "markdown",
   "id": "75ad487c",
   "metadata": {},
   "source": [
    "### Alucinações de input"
   ]
  },
  {
   "cell_type": "code",
   "execution_count": 50,
   "id": "3a93fed3",
   "metadata": {},
   "outputs": [],
   "source": [
    "input_cm = create_confusion_matrix(human_judge_input, gpt_input)"
   ]
  },
  {
   "cell_type": "code",
   "execution_count": 52,
   "id": "0878ab39",
   "metadata": {},
   "outputs": [
    {
     "name": "stdout",
     "output_type": "stream",
     "text": [
      "True Negative: 13\n",
      "False Positive: 2\n",
      "False Negative: 2\n",
      "True Positive: 8\n"
     ]
    }
   ],
   "source": [
    "print(f\"True Negative: {input_cm[0][0]}\")\n",
    "print(f\"False Positive: {input_cm[0][1]}\")\n",
    "print(f\"False Negative: {input_cm[1][0]}\")\n",
    "print(f\"True Positive: {input_cm[1][1]}\")"
   ]
  },
  {
   "cell_type": "code",
   "execution_count": 53,
   "id": "e31b44ac",
   "metadata": {},
   "outputs": [
    {
     "data": {
      "image/png": "[encoded data removed]",
      "text/plain": [
       "<Figure size 640x480 with 2 Axes>"
      ]
     },
     "metadata": {},
     "output_type": "display_data"
    }
   ],
   "source": [
    "labels = [\"Negative\", \"Positive\"]\n",
    "cm_display = ConfusionMatrixDisplay(confusion_matrix=input_cm, display_labels=labels)\n",
    "\n",
    "cm_display.plot()\n",
    "\n",
    "plt.title('Matriz de Confusão — Alucinações de Input')\n",
    "plt.show()"
   ]
  },
  {
   "cell_type": "markdown",
   "id": "3b5100ec",
   "metadata": {},
   "source": [
    "### Alucinações contextuis"
   ]
  },
  {
   "cell_type": "code",
   "execution_count": 54,
   "id": "01d7daf6",
   "metadata": {},
   "outputs": [],
   "source": [
    "context_cm = create_confusion_matrix(human_judge_context, gpt_context)"
   ]
  },
  {
   "cell_type": "code",
   "execution_count": 55,
   "id": "726ddafb",
   "metadata": {},
   "outputs": [
    {
     "name": "stdout",
     "output_type": "stream",
     "text": [
      "True Negative: 12\n",
      "False Positive: 3\n",
      "False Negative: 5\n",
      "True Positive: 5\n"
     ]
    }
   ],
   "source": [
    "print(f\"True Negative: {context_cm[0][0]}\")\n",
    "print(f\"False Positive: {context_cm[0][1]}\")\n",
    "print(f\"False Negative: {context_cm[1][0]}\")\n",
    "print(f\"True Positive: {context_cm[1][1]}\")"
   ]
  },
  {
   "cell_type": "code",
   "execution_count": 57,
   "id": "06cf13d8",
   "metadata": {},
   "outputs": [
    {
     "data": {
      "image/png": "[encoded data removed]",
      "text/plain": [
       "<Figure size 640x480 with 2 Axes>"
      ]
     },
     "metadata": {},
     "output_type": "display_data"
    }
   ],
   "source": [
    "labels = [\"Negative\", \"Positive\"]\n",
    "cm_display = ConfusionMatrixDisplay(confusion_matrix=context_cm, display_labels=labels)\n",
    "\n",
    "cm_display.plot()\n",
    "\n",
    "plt.title('Matriz de Confusão — Alucinações Contextuais')\n",
    "plt.show()"
   ]
  },
  {
   "cell_type": "markdown",
   "id": "a546b569",
   "metadata": {},
   "source": [
    "### Alucinações de factuais"
   ]
  },
  {
   "cell_type": "code",
   "execution_count": 58,
   "id": "5ec6f2ac",
   "metadata": {},
   "outputs": [],
   "source": [
    "factual_cm = create_confusion_matrix(human_judge_factual, gpt_factual)"
   ]
  },
  {
   "cell_type": "code",
   "execution_count": 59,
   "id": "2e31863b",
   "metadata": {},
   "outputs": [
    {
     "name": "stdout",
     "output_type": "stream",
     "text": [
      "True Negative: 11\n",
      "False Positive: 4\n",
      "False Negative: 2\n",
      "True Positive: 8\n"
     ]
    }
   ],
   "source": [
    "print(f\"True Negative: {factual_cm[0][0]}\")\n",
    "print(f\"False Positive: {factual_cm[0][1]}\")\n",
    "print(f\"False Negative: {factual_cm[1][0]}\")\n",
    "print(f\"True Positive: {factual_cm[1][1]}\")"
   ]
  },
  {
   "cell_type": "code",
   "execution_count": 60,
   "id": "e6a7b582",
   "metadata": {},
   "outputs": [
    {
     "data": {
      "image/png": "[encoded data removed]",
      "text/plain": [
       "<Figure size 640x480 with 2 Axes>"
      ]
     },
     "metadata": {},
     "output_type": "display_data"
    }
   ],
   "source": [
    "labels = [\"Negative\", \"Positive\"]\n",
    "cm_display = ConfusionMatrixDisplay(confusion_matrix=factual_cm, display_labels=labels)\n",
    "\n",
    "cm_display.plot()\n",
    "\n",
    "plt.title('Matriz de Confusão — Alucinações Factuais')\n",
    "plt.show()"
   ]
  }
 ],
 "metadata": {
  "kernelspec": {
   "display_name": "env",
   "language": "python",
   "name": "python3"
  },
  "language_info": {
   "codemirror_mode": {
    "name": "ipython",
    "version": 3
   },
   "file_extension": ".py",
   "mimetype": "text/x-python",
   "name": "python",
   "nbconvert_exporter": "python",
   "pygments_lexer": "ipython3",
   "version": "3.13.3"
  }
 },
 "nbformat": 4,
 "nbformat_minor": 5
}
