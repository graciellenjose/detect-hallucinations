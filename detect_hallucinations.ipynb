{
 "cells": [
  {
   "cell_type": "code",
   "execution_count": null,
   "id": "63a71c26",
   "metadata": {
    "vscode": {
     "languageId": "plaintext"
    }
   },
   "outputs": [],
   "source": [
    "!pip3 install langchain langchain-community langchain-ollama langchain-openai ollama faiss-cpu\n",
    "!pip3 install pandas streamlit python-dotenv pypdf"
   ]
  },
  {
   "cell_type": "code",
   "execution_count": null,
   "id": "830913b6",
   "metadata": {
    "vscode": {
     "languageId": "plaintext"
    }
   },
   "outputs": [],
   "source": [
    "from langchain_ollama import OllamaEmbeddings, OllamaLLM\n",
    "from langchain_core.prompts import ChatPromptTemplate\n",
    "from langchain.document_loaders import PyPDFLoader\n",
    "from langchain.vectorstores import FAISS\n",
    "from langchain_openai import OpenAIEmbeddings, ChatOpenAI\n",
    "from langchain.text_splitter import RecursiveCharacterTextSplitter\n",
    "from langchain.chains import LLMChain\n",
    "\n",
    "import re\n",
    "import pandas as pd\n",
    "from dotenv import load_dotenv"
   ]
  },
  {
   "cell_type": "markdown",
   "id": "98d1e4ac",
   "metadata": {},
   "source": [
    "# Detecção de alucinações "
   ]
  },
  {
   "cell_type": "markdown",
   "id": "1918cbf2",
   "metadata": {},
   "source": [
    "## Alucinações de input"
   ]
  },
  {
   "cell_type": "markdown",
   "id": "398c0fab",
   "metadata": {},
   "source": [
    "## Alucinações contextuais"
   ]
  },
  {
   "cell_type": "markdown",
   "id": "06ab55ca",
   "metadata": {},
   "source": [
    "## Alucinações factuais"
   ]
  },
  {
   "cell_type": "markdown",
   "id": "2b589c7c",
   "metadata": {},
   "source": [
    "# Llama"
   ]
  },
  {
   "cell_type": "markdown",
   "id": "1f5d074e",
   "metadata": {},
   "source": [
    "## Deepseek"
   ]
  },
  {
   "cell_type": "markdown",
   "id": "423c3ed6",
   "metadata": {},
   "source": [
    "### Alucinações de input"
   ]
  },
  {
   "cell_type": "markdown",
   "id": "10153e01",
   "metadata": {},
   "source": [
    "### Alucinações contextuais"
   ]
  },
  {
   "cell_type": "markdown",
   "id": "fc1ee882",
   "metadata": {},
   "source": [
    "### Alucinações factuais"
   ]
  },
  {
   "cell_type": "markdown",
   "id": "7f3b3c73",
   "metadata": {},
   "source": [
    "#### Veredito"
   ]
  },
  {
   "cell_type": "markdown",
   "id": "7ad6dd2a",
   "metadata": {},
   "source": [
    "## Gemini"
   ]
  },
  {
   "cell_type": "markdown",
   "id": "9d0866f3",
   "metadata": {},
   "source": [
    "### Alucinações de input"
   ]
  },
  {
   "cell_type": "markdown",
   "id": "87454878",
   "metadata": {},
   "source": [
    "### Alucinações contextuais"
   ]
  },
  {
   "cell_type": "markdown",
   "id": "0bd785cc",
   "metadata": {},
   "source": [
    "### Alucinações factuais"
   ]
  },
  {
   "cell_type": "markdown",
   "id": "6eb3ac2e",
   "metadata": {},
   "source": [
    "#### Veredito"
   ]
  },
  {
   "cell_type": "markdown",
   "id": "5236b63c",
   "metadata": {},
   "source": [
    "# GPT"
   ]
  },
  {
   "cell_type": "markdown",
   "id": "75e68bd4",
   "metadata": {},
   "source": [
    "## Deepseek"
   ]
  },
  {
   "cell_type": "markdown",
   "id": "ed1057ec",
   "metadata": {},
   "source": [
    "### Alucinações de input"
   ]
  },
  {
   "cell_type": "markdown",
   "id": "9edf2e59",
   "metadata": {},
   "source": [
    "### Alucinações contextuais"
   ]
  },
  {
   "cell_type": "markdown",
   "id": "7cdfe023",
   "metadata": {},
   "source": [
    "### Alucinações factuais"
   ]
  },
  {
   "cell_type": "markdown",
   "id": "ad8732f2",
   "metadata": {},
   "source": [
    "#### Veredito"
   ]
  },
  {
   "cell_type": "markdown",
   "id": "bbdb36bd",
   "metadata": {},
   "source": [
    "## Gemini"
   ]
  },
  {
   "cell_type": "markdown",
   "id": "dee896c5",
   "metadata": {},
   "source": [
    "### Alucinações de input"
   ]
  },
  {
   "cell_type": "markdown",
   "id": "86a2ad6e",
   "metadata": {},
   "source": [
    "### Alucinações contextuais"
   ]
  },
  {
   "cell_type": "markdown",
   "id": "894649d4",
   "metadata": {},
   "source": [
    "### Alucinações factuais"
   ]
  },
  {
   "cell_type": "markdown",
   "id": "96f44d5d",
   "metadata": {},
   "source": [
    "#### Veredito"
   ]
  }
 ],
 "metadata": {
  "language_info": {
   "name": "python"
  }
 },
 "nbformat": 4,
 "nbformat_minor": 5
}
