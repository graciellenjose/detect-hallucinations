{
 "cells": [
  {
   "cell_type": "code",
   "execution_count": null,
   "id": "63a71c26",
   "metadata": {},
   "outputs": [],
   "source": [
    "!pip3 install langchain langchain-community langchain-ollama langchain-openai ollama faiss-cpu replicate\n",
    "!pip3 install pandas streamlit python-dotenv pypdf"
   ]
  },
  {
   "cell_type": "code",
   "execution_count": 11,
   "id": "830913b6",
   "metadata": {},
   "outputs": [],
   "source": [
    "from langchain_ollama import OllamaEmbeddings, OllamaLLM\n",
    "from langchain_core.prompts import ChatPromptTemplate\n",
    "from langchain.document_loaders import PyPDFLoader\n",
    "from langchain.vectorstores import FAISS\n",
    "from langchain_openai import OpenAIEmbeddings, ChatOpenAI\n",
    "from langchain.text_splitter import RecursiveCharacterTextSplitter\n",
    "from langchain.chains import LLMChain\n",
    "import replicate\n",
    "\n",
    "import re\n",
    "import pandas as pd\n",
    "from dotenv import load_dotenv"
   ]
  },
  {
   "cell_type": "code",
   "execution_count": 12,
   "id": "2473deda",
   "metadata": {},
   "outputs": [
    {
     "data": {
      "text/plain": [
       "True"
      ]
     },
     "execution_count": 12,
     "metadata": {},
     "output_type": "execute_result"
    }
   ],
   "source": [
    "load_dotenv()"
   ]
  },
  {
   "cell_type": "code",
   "execution_count": 13,
   "id": "12c09c7f",
   "metadata": {},
   "outputs": [
    {
     "data": {
      "text/html": [
       "<div>\n",
       "<style scoped>\n",
       "    .dataframe tbody tr th:only-of-type {\n",
       "        vertical-align: middle;\n",
       "    }\n",
       "\n",
       "    .dataframe tbody tr th {\n",
       "        vertical-align: top;\n",
       "    }\n",
       "\n",
       "    .dataframe thead th {\n",
       "        text-align: right;\n",
       "    }\n",
       "</style>\n",
       "<table border=\"1\" class=\"dataframe\">\n",
       "  <thead>\n",
       "    <tr style=\"text-align: right;\">\n",
       "      <th></th>\n",
       "      <th>id</th>\n",
       "      <th>perguntas</th>\n",
       "      <th>respostas</th>\n",
       "    </tr>\n",
       "  </thead>\n",
       "  <tbody>\n",
       "    <tr>\n",
       "      <th>0</th>\n",
       "      <td>1</td>\n",
       "      <td>O que caracteriza o crime de peculato?</td>\n",
       "      <td>O crime de peculato é caracterizado por apropr...</td>\n",
       "    </tr>\n",
       "    <tr>\n",
       "      <th>1</th>\n",
       "      <td>2</td>\n",
       "      <td>Qual a pena prevista para injúria quando há ut...</td>\n",
       "      <td>A pena prevista para injúria quando há utiliza...</td>\n",
       "    </tr>\n",
       "    <tr>\n",
       "      <th>2</th>\n",
       "      <td>3</td>\n",
       "      <td>O que caracteriza o feminicídio?</td>\n",
       "      <td>O feminicídio é uma qualificadora do crime de ...</td>\n",
       "    </tr>\n",
       "    <tr>\n",
       "      <th>3</th>\n",
       "      <td>4</td>\n",
       "      <td>Quais ações constituem o crime de extorsão?</td>\n",
       "      <td>Constituem o crime de extorsão as ações de con...</td>\n",
       "    </tr>\n",
       "    <tr>\n",
       "      <th>4</th>\n",
       "      <td>5</td>\n",
       "      <td>O que caracteriza a legítima defesa?</td>\n",
       "      <td>A legítima defesa é caracterizada por repelir ...</td>\n",
       "    </tr>\n",
       "    <tr>\n",
       "      <th>5</th>\n",
       "      <td>6</td>\n",
       "      <td>O que caracteriza o crime de corrupção passiva?</td>\n",
       "      <td>O crime de corrupção ativa é caracterizado por...</td>\n",
       "    </tr>\n",
       "    <tr>\n",
       "      <th>6</th>\n",
       "      <td>7</td>\n",
       "      <td>Qual é a pena para o crime de homicídio simples?</td>\n",
       "      <td>A pena para o crime de homicídio culposo é de ...</td>\n",
       "    </tr>\n",
       "    <tr>\n",
       "      <th>7</th>\n",
       "      <td>8</td>\n",
       "      <td>Qual é a pena para o crime de lesão corporal c...</td>\n",
       "      <td>A pena para o crime de lesão corporal de natur...</td>\n",
       "    </tr>\n",
       "    <tr>\n",
       "      <th>8</th>\n",
       "      <td>9</td>\n",
       "      <td>Qual é a pena para o crime de furto simples?</td>\n",
       "      <td>A pena para o crime de furto qualificado é de ...</td>\n",
       "    </tr>\n",
       "    <tr>\n",
       "      <th>9</th>\n",
       "      <td>10</td>\n",
       "      <td>Como a legislação penal brasileira trata o rei...</td>\n",
       "      <td>A legislação penal estrangeira não tipifica di...</td>\n",
       "    </tr>\n",
       "    <tr>\n",
       "      <th>10</th>\n",
       "      <td>11</td>\n",
       "      <td>O que é considerado estado de necessidade?</td>\n",
       "      <td>Considera-se em estado de necessidade quem pra...</td>\n",
       "    </tr>\n",
       "    <tr>\n",
       "      <th>11</th>\n",
       "      <td>12</td>\n",
       "      <td>Como o Código Penal regula o crime de sequestr...</td>\n",
       "      <td>O Código Penal regula o crime de sequestro e c...</td>\n",
       "    </tr>\n",
       "    <tr>\n",
       "      <th>12</th>\n",
       "      <td>13</td>\n",
       "      <td>Quais fatores podem reduzir o prazo de prescri...</td>\n",
       "      <td>O prazo de prescrição do crime é reduzido pela...</td>\n",
       "    </tr>\n",
       "    <tr>\n",
       "      <th>13</th>\n",
       "      <td>14</td>\n",
       "      <td>O que caracteriza o crime de tráfico de pessoas?</td>\n",
       "      <td>O crime de tráfico de pessoas é caracterizado ...</td>\n",
       "    </tr>\n",
       "    <tr>\n",
       "      <th>14</th>\n",
       "      <td>15</td>\n",
       "      <td>Quais práticas configuram o crime de falsifica...</td>\n",
       "      <td>Configuram o crime de falsificação de document...</td>\n",
       "    </tr>\n",
       "    <tr>\n",
       "      <th>15</th>\n",
       "      <td>16</td>\n",
       "      <td>O que é considerado território nacional para e...</td>\n",
       "      <td>Para efeitos penais, o território nacional abr...</td>\n",
       "    </tr>\n",
       "    <tr>\n",
       "      <th>16</th>\n",
       "      <td>17</td>\n",
       "      <td>O que caracteriza o crime de calúnia?</td>\n",
       "      <td>O crime de calúnia caracteriza-se por ofender ...</td>\n",
       "    </tr>\n",
       "    <tr>\n",
       "      <th>17</th>\n",
       "      <td>18</td>\n",
       "      <td>Como o código trata o crime de difamação quand...</td>\n",
       "      <td>No crime de difamação, a exceção da verdade (p...</td>\n",
       "    </tr>\n",
       "    <tr>\n",
       "      <th>18</th>\n",
       "      <td>19</td>\n",
       "      <td>Como o Código Penal trata o crime de dano qual...</td>\n",
       "      <td>O Código Penal prevê o crime de dano qualifica...</td>\n",
       "    </tr>\n",
       "    <tr>\n",
       "      <th>19</th>\n",
       "      <td>20</td>\n",
       "      <td>O que acontece se uma lei posterior deixar de ...</td>\n",
       "      <td>Isso é conhecido como abolitio criminis. Confo...</td>\n",
       "    </tr>\n",
       "    <tr>\n",
       "      <th>20</th>\n",
       "      <td>21</td>\n",
       "      <td>Qual é a pena para o crime de exercício ilegal...</td>\n",
       "      <td>A pena para o crime de exercício legal da medi...</td>\n",
       "    </tr>\n",
       "    <tr>\n",
       "      <th>21</th>\n",
       "      <td>22</td>\n",
       "      <td>Em que condições o condenado poderá exercer tr...</td>\n",
       "      <td>O condenado em regime semiaberto poderá exerce...</td>\n",
       "    </tr>\n",
       "    <tr>\n",
       "      <th>22</th>\n",
       "      <td>23</td>\n",
       "      <td>O que é o crime de descaminho?</td>\n",
       "      <td>O crime de descaminho se enquadra no contraban...</td>\n",
       "    </tr>\n",
       "    <tr>\n",
       "      <th>23</th>\n",
       "      <td>24</td>\n",
       "      <td>Quais as agravantes para o homicídio qualifica...</td>\n",
       "      <td>Homicídio doloso consiste em uma pessoa tirar ...</td>\n",
       "    </tr>\n",
       "    <tr>\n",
       "      <th>24</th>\n",
       "      <td>25</td>\n",
       "      <td>O que caracteriza o crime doloso?</td>\n",
       "      <td>O crime culposo é caracterizado pela intenção ...</td>\n",
       "    </tr>\n",
       "  </tbody>\n",
       "</table>\n",
       "</div>"
      ],
      "text/plain": [
       "    id                                          perguntas  \\\n",
       "0    1             O que caracteriza o crime de peculato?   \n",
       "1    2  Qual a pena prevista para injúria quando há ut...   \n",
       "2    3                   O que caracteriza o feminicídio?   \n",
       "3    4        Quais ações constituem o crime de extorsão?   \n",
       "4    5               O que caracteriza a legítima defesa?   \n",
       "5    6    O que caracteriza o crime de corrupção passiva?   \n",
       "6    7   Qual é a pena para o crime de homicídio simples?   \n",
       "7    8  Qual é a pena para o crime de lesão corporal c...   \n",
       "8    9       Qual é a pena para o crime de furto simples?   \n",
       "9   10  Como a legislação penal brasileira trata o rei...   \n",
       "10  11         O que é considerado estado de necessidade?   \n",
       "11  12  Como o Código Penal regula o crime de sequestr...   \n",
       "12  13  Quais fatores podem reduzir o prazo de prescri...   \n",
       "13  14   O que caracteriza o crime de tráfico de pessoas?   \n",
       "14  15  Quais práticas configuram o crime de falsifica...   \n",
       "15  16  O que é considerado território nacional para e...   \n",
       "16  17              O que caracteriza o crime de calúnia?   \n",
       "17  18  Como o código trata o crime de difamação quand...   \n",
       "18  19  Como o Código Penal trata o crime de dano qual...   \n",
       "19  20  O que acontece se uma lei posterior deixar de ...   \n",
       "20  21  Qual é a pena para o crime de exercício ilegal...   \n",
       "21  22  Em que condições o condenado poderá exercer tr...   \n",
       "22  23                     O que é o crime de descaminho?   \n",
       "23  24  Quais as agravantes para o homicídio qualifica...   \n",
       "24  25                  O que caracteriza o crime doloso?   \n",
       "\n",
       "                                            respostas  \n",
       "0   O crime de peculato é caracterizado por apropr...  \n",
       "1   A pena prevista para injúria quando há utiliza...  \n",
       "2   O feminicídio é uma qualificadora do crime de ...  \n",
       "3   Constituem o crime de extorsão as ações de con...  \n",
       "4   A legítima defesa é caracterizada por repelir ...  \n",
       "5   O crime de corrupção ativa é caracterizado por...  \n",
       "6   A pena para o crime de homicídio culposo é de ...  \n",
       "7   A pena para o crime de lesão corporal de natur...  \n",
       "8   A pena para o crime de furto qualificado é de ...  \n",
       "9   A legislação penal estrangeira não tipifica di...  \n",
       "10  Considera-se em estado de necessidade quem pra...  \n",
       "11  O Código Penal regula o crime de sequestro e c...  \n",
       "12  O prazo de prescrição do crime é reduzido pela...  \n",
       "13  O crime de tráfico de pessoas é caracterizado ...  \n",
       "14  Configuram o crime de falsificação de document...  \n",
       "15  Para efeitos penais, o território nacional abr...  \n",
       "16  O crime de calúnia caracteriza-se por ofender ...  \n",
       "17  No crime de difamação, a exceção da verdade (p...  \n",
       "18  O Código Penal prevê o crime de dano qualifica...  \n",
       "19  Isso é conhecido como abolitio criminis. Confo...  \n",
       "20  A pena para o crime de exercício legal da medi...  \n",
       "21  O condenado em regime semiaberto poderá exerce...  \n",
       "22  O crime de descaminho se enquadra no contraban...  \n",
       "23  Homicídio doloso consiste em uma pessoa tirar ...  \n",
       "24  O crime culposo é caracterizado pela intenção ...  "
      ]
     },
     "execution_count": 13,
     "metadata": {},
     "output_type": "execute_result"
    }
   ],
   "source": [
    "df_qa = pd.read_csv(\"qa_base/qa.csv\")\n",
    "\n",
    "df_qa"
   ]
  },
  {
   "cell_type": "markdown",
   "id": "98d1e4ac",
   "metadata": {},
   "source": [
    "# Detecção de alucinações "
   ]
  },
  {
   "cell_type": "code",
   "execution_count": 7,
   "id": "2d73f90a",
   "metadata": {},
   "outputs": [],
   "source": [
    "has_hallucination_llama = []\n",
    "has_hallucination_gpt = []"
   ]
  },
  {
   "cell_type": "code",
   "execution_count": 14,
   "id": "45caee20",
   "metadata": {},
   "outputs": [],
   "source": [
    "def check_hallucinations(model_answer_df, hallucination_type=\"\", model_name = \"\", model=\"\"):\n",
    "    for idx, row in df_qa.iterrows():\n",
    "        id = row[\"id\"]\n",
    "        question = row[\"perguntas\"]\n",
    "        answer = row[\"respostas\"]\n",
    "        \n",
    "        if hallucination_type == \"input\":\n",
    "           hallucination_check = has_input_hallucination(question, answer, model_name=\"llama\") # type: ignore\n",
    "        \n",
    "        existing_entry = next((item for item in model_answer_df if item[\"id\"] == id), None)\n",
    "\n",
    "        if existing_entry:\n",
    "            existing_entry[f\"{hallucination_type}_hallucination_llm\"] = hallucination_check\n",
    "        else:\n",
    "            model_answer_df.append({\"id\":id, \"question\":question, \"answer\":answer, \n",
    "                                    f\"{hallucination_type}_hallucination_reason\":hallucination_check})\n",
    "        \n",
    "        print(hallucination_check)\n",
    "        \n",
    "    return hallucination_check"
   ]
  },
  {
   "cell_type": "markdown",
   "id": "1918cbf2",
   "metadata": {},
   "source": [
    "## Alucinações de input"
   ]
  },
  {
   "cell_type": "code",
   "execution_count": null,
   "id": "eb19b580",
   "metadata": {},
   "outputs": [],
   "source": [
    "def has_input_hallucination(question, answer, model_name=\"\", model=\"\"):\n",
    "    input_hallucination_prompt = \"\"\"\n",
    "        Você é um assistente cuja função é responder se houve ou não alucinações de input.\n",
    "        Considere que de alucinação de input é quando a resposta foge do tópico da pergunta feita\n",
    "        pelo usuário.\n",
    "\n",
    "        Exemplo 1:\n",
    "            Pergunta: Quais as raças de gato de maior tamanho existentes?\n",
    "            Resposta: Claro! Aqui estão as maiores raças de cachorro\n",
    "        \n",
    "        Exemplo 2: \n",
    "            Pergunta: Me diga fatos sobre a cidade do Recife.\n",
    "            Resposta: Os recifes de coral são a maior estrutura viva do planeta.\n",
    "\n",
    "        Exemplo 3:\n",
    "            Pergunta: Preciso de sugestões para cortes em cabelos cacheados\n",
    "            Resposta: Cabelos lisos ficam ótimos com o corte borboleta.\n",
    "\n",
    "        Caso haja alucinação de input, responda com 1. Caso não tenha alucinação de input, responda com 0. \n",
    "        Faça com que o 0 ou o 1 fiquem sempre no início da frase.\n",
    "        Explique o porque de ser ou não.\n",
    "        \n",
    "        Considerando que a resposta gerada pergunta \"{question}\" foi \"{answer}\", houve alucinação de input?\n",
    "    \"\"\"\n",
    "    \n",
    "    if model_name == \"llama\":\n",
    "        prompt = input_hallucination_prompt.format(question=question, answer=answer)\n",
    "        output = replicate.run(\n",
    "            \"meta/llama-4-maverick-instruct\",\n",
    "            input={\"prompt\": prompt},\n",
    "        )\n",
    "        \n",
    "        result = \"\".join(output).strip()\n",
    "    elif model_name == \"gpt\":\n",
    "        prompt = ChatPromptTemplate.from_template(input_hallucination_prompt)\n",
    "        chain = prompt | model\n",
    "        result = chain.invoke({\"question\": question, \"answer\": answer})\n",
    "        \n",
    "    return result"
   ]
  },
  {
   "cell_type": "markdown",
   "id": "398c0fab",
   "metadata": {},
   "source": [
    "## Alucinações contextuais"
   ]
  },
  {
   "cell_type": "code",
   "execution_count": null,
   "id": "d7779526",
   "metadata": {},
   "outputs": [],
   "source": [
    "def has_context_hallucination_llm(answer, model):\n",
    "    contextHallucinationTemplate = \"\"\"\n",
    "        Você é um assistente cuja função é responder se houve ou não alucinações de contexto.\n",
    "        Considere que de alucinação de contexto é quando a resposta se contradiz.\n",
    "\n",
    "        Exemplo 1:\n",
    "            Texto: Foram observadas \"primeiras propagações\" do vírus na população de países situados fora do continente americano, \n",
    "            assinalou o director-geral adjunto da OMS, citando o Reino Unido, o Japão e a Austrália, além do Chile, na América do Sul.\n",
    "\n",
    "        Explicação: Chile não está fora do continente americano.\n",
    "        \n",
    "        Exemplo 2: \n",
    "            Texto: Ele só compra leite de vaca, pois é intolerante à lactose.\n",
    "\n",
    "        Explicação: Se ele é intolerante a lactore, não pode beber leite de vaca.\n",
    "\n",
    "        Exemplo 3:\n",
    "            Texto: O gato miava muito alto. A temperatura hoje é de 25 graus\n",
    "        \n",
    "        Explicação: Os assuntos não se conectam entre si.\n",
    "\n",
    "        Caso haja alucinação contextual, responda com 1. Caso não tenha alucinação contextual, responda com 0.\n",
    "        Faça com que o 0 ou o 1 fiquem sempre no início da frase.\n",
    "        Explique o porque de ser ou não.\n",
    "        \n",
    "        Considerando que o texto seja \"{answer}\", houve alucinação contextual?\n",
    "    \"\"\"\n",
    "    prompt = ChatPromptTemplate.from_template(contextHallucinationTemplate)\n",
    "    chain = prompt | model\n",
    "\n",
    "    result = chain.invoke({\"answer\": answer})\n",
    "\n",
    "    return result"
   ]
  },
  {
   "cell_type": "markdown",
   "id": "06ab55ca",
   "metadata": {},
   "source": [
    "## Alucinações factuais"
   ]
  },
  {
   "cell_type": "code",
   "execution_count": null,
   "id": "f9d2df09",
   "metadata": {},
   "outputs": [],
   "source": [
    "def has_factual_hallucination_llm(answer, vectorstore, model):\n",
    "    FactualHallucinationTemplate = \"\"\"\n",
    "        Você é um assistente criado para verificar se houveram alucinações factuais.\n",
    "        Considere que uma alucinação é factual quando há uma informação falsa na resposta.\n",
    "\n",
    "        Exemplo 1:\n",
    "        Pergunta: Qual o maior animal do mundo?\n",
    "        Resposta: O maior animal do mundo é a formiga\n",
    "\n",
    "        Exemplo 2:\n",
    "        Pergunta: Qual a cor do girassol?\n",
    "        Resposta: Girassóis são roxos\n",
    "\n",
    "        Exemplo 3: \n",
    "        Pergunta: Quantas rodas tem um carro?\n",
    "        Resposta: Um carro possui 2 rodas.\n",
    "\n",
    "        Caso haja alucinação factual, responda com 1. Caso não tenha alucinação de factual, responda com 0. \n",
    "        Faça com que o 0 ou o 1 fiquem sempre no início da frase.\n",
    "        Explique o porque de ser ou não.\n",
    "        Responda com base no contexto:\n",
    "        {context}\n",
    "\n",
    "        Considerando a resposta \"{answer}\", houve alucinação factual?\n",
    "\"\"\"\n",
    "    prompt_template = ChatPromptTemplate.from_template(FactualHallucinationTemplate)\n",
    "\n",
    "    query = \"\"\"Resposta: {answer}\"\"\"\n",
    "    retrieve = vectorstore.similarity_search(query)\n",
    "\n",
    "    for retrieved in retrieve:\n",
    "        context = \"\\n\".join(str(retrieved))\n",
    "\n",
    "    chain = prompt_template | model\n",
    "\n",
    "    result = chain.invoke({\"context\": context, \"answer\": answer})\n",
    "\n",
    "    return result"
   ]
  },
  {
   "cell_type": "markdown",
   "id": "2b589c7c",
   "metadata": {},
   "source": [
    "# Llama"
   ]
  },
  {
   "cell_type": "markdown",
   "id": "423c3ed6",
   "metadata": {},
   "source": [
    "### Alucinações de input"
   ]
  },
  {
   "cell_type": "code",
   "execution_count": 23,
   "id": "49fbca45",
   "metadata": {},
   "outputs": [
    {
     "name": "stdout",
     "output_type": "stream",
     "text": [
      "['', '', '0. A resposta está diretamente relacionada à', ' pergunta feita, pois define', ' e explica o crime de peculato conforme solicitado, cit', 'ando inclusive o artigo relevante do Código Penal. A resposta não', ' foge do tópico da pergunta', '.']\n",
      "['', '', '0 não houve alucinação de input', '.\\n\\nA resposta fornecida está diretamente relacionada à pergunta feita,', ' tratando do mesmo tema e fornecendo uma resposta que aborda especificamente', ' a pena prevista para injúria com base em certos critérios', ', como religião ou condição', ' de pessoa idosa ou com deficiência. Embora a resposta tenha', ' incluído outros elementos além dos', ' mencionados na pergunta (como raça, cor, etnia,', ' procedência nacional), ela não se desviou do contexto da', ' pergunta, que é sobre as', ' circunstâncias agravantes da injúria. Portanto, a resposta', ' está dentro do tópico pergunt', 'ado e não configura alucinação de input.', '']\n",
      "['', '', '0. A resposta está diretamente relacionada à', ' pergunta feita, pois define e', ' explica o conceito de feminic', 'ídio, que é o tema', ' da pergunta. A resposta não', ' foge do tópico,', ' fornecendo uma explicação detalhada', ' e fundamentada na legislação pertinente, o que indica que não', ' houve alucinação de input', '.']\n",
      "['', '', '0. A resposta está diretamente relacionada à', ' pergunta feita, pois define o', ' crime de extorsão de', ' acordo com o Código Penal,', ' o que é exatamente o que', ' foi perguntado. Não houve', ' desvio do tópico,', ' portanto, não houve alucinação de input.', '']\n",
      "['', '', '0. A resposta não apresenta aluc', 'inação de input, pois está', ' diretamente relacionada à pergunta feita, fornecendo uma explicação sobre o', ' que caracteriza a legítima defesa', ', que é o tema da', ' pergunta. A resposta aborda o', ' tópico de forma coerente e pertinente.', '']\n",
      "['', '', '1, pois a resposta fornecida fog', 'e do tópico da pergunta', ' feita. A pergunta foi sobre', ' \"corrupção passiva\", enquanto a resposta tratou', ' de \"corrupção ativa', '\", que são conceitos jurídicos distintos', '. A corrupção passiva refere-se ao ato de receber', ' ou', ' solicitar vantagem', ' indevida, enquanto a', ' corrupção ativa envolve oferecer ou', ' prometer tal vantagem. Portanto', ', a resposta não atendeu', ' ao solicitado na pergunta, caracter', 'izando alucinação de input.', '']\n",
      "['', '', '1, pois a resposta dada foge', ' do tópico da pergunta feita', '. A pergunta foi sobre a', ' pena para o crime de homic', 'ídio simples, mas a resposta fornecida tratou da pena', ' para homicídio culposo, que é um tipo diferente', ' de crime. Portanto, houve', ' alucinação de input.', '']\n",
      "['', '', '1 - Houve alucinação de input porque a pergunta se refere', ' ao crime de lesão corporal cul', 'posa, enquanto a resposta trata do crime de lesão corporal', ' de natureza grave, que são', ' tipos diferentes de crimes com características e penalidades distintas. A', ' resposta foge do tópico específico da pergunta, que é', ' sobre lesão corporal culposa.', '']\n",
      "['', '', '1 A resposta dada trata de \"furto qualificado\", enquanto a pergunta feita', ' foi', ' sobre \"furto simples', '\". Portanto, houve al', 'uc', 'inação de input, pois a', ' resposta não está relacionada ao tópico da pergunta. A distin', 'ção entre furto simples e', ' qualificado é relevante, pois são crimes com características e penal', 'idades diferentes. A resposta correta deveria abordar a pena para o', ' furto simples.']\n",
      "['', '', '0, pois a resposta está diretamente relacionada à', ' pergunta feita, discutindo a legislação penal brasileira em relação ao reingresso', ' de estrangeiro expulso do', ' país. Embora a resposta comece mencionando a \"legislação', ' penal estrangeira\", ela logo em seguida corrige o foco para a', ' legislação brasileira, conforme solicitado, e continua a fornecer informações relevantes sobre como', ' a Lei de Migração e o Código Penal brasileiro tratam a questão', '. Portanto, a resposta não foge do tópico da pergunta.', '']\n",
      "['', '', '0 A resposta está diretamente relacionada à pergunta, fornecendo uma definição de estado de', ' necessidade, que é o que foi', ' solicitado. Não houve desvio do', ' tópico da pergunta, portanto, não há alucinação de input', '.']\n",
      "['', '', '0, a resposta está diretamente relacionada à pergunta', ' feita, pois aborda o tema do crime de sequestro e suas penal', 'idades conforme regulado pelo Código Penal, fornecendo detalhes específicos sobre a legislação', ' aplicável, incluindo artigos e penalidades. Portanto, não há al', 'ucinação de input.']\n",
      "['', '', '0 - Não houve alucinação de input', '. A resposta está relacionada à', ' pergunta feita, pois discute', ' um fator (idade do crimin', 'oso) que pode influenciar o prazo de prescrição do', ' crime, que é o tema da pergunta. Embora a men', 'ção a \"remédios que o réu tomava', '\" possa ser considerada um des', 'vio ou irrelevância, o início da resposta aborda diretamente', ' o tema da pergunta, mantendo-se no tópico sobre', ' fatores que podem reduzir o prazo', ' de prescrição. Portanto, considera-se que não houve al', 'ucinação de input.', '']\n",
      "['', '', '1. Sim, houve alucinação de', ' input. A resposta fornecida caracteriza o crime de tráfico de drogas,', ' e não de', ' tráfico de pessoas, como solicitado', ' na pergunta.', ' O tráfico de', ' pessoas e o tráfico de drogas', ' são crimes distintos com características e definições', ' legais diferentes. Portanto', ', a resposta foge do', ' t', 'ópico da pergunta, constitu', 'indo uma alucinação de', ' input.']\n",
      "['', '', '0 Não houve alucinação de input,', ' pois apesar de a resposta mencionar', ' \"documento de empresa privada', '\", que não está diretamente relacionado', ' à pergunta sobre \"documento', ' público\", ela inicia respondendo', ' sobre o tema perguntado,', ' que é o crime de fals', 'ificação de documento público. A', ' menção adicional a \"document', 'o de empresa privada\" pode ser considerada informação extra ou um', ' desvio parcial, mas a', ' resposta começa abordando o tema solicitado. Portanto, não caracteriza', ' uma alucinação de input completa como nos exemplos dados.', '']\n",
      "['', '', '0. A resposta está diretamente relacionada à', ' pergunta feita, pois aborda o', ' conceito de território nacional para efeitos penais, fornecendo uma', ' definição clara e concisa que', ' corresponde ao que foi perguntado. Não há desvio do', ' tópico, portanto, não', ' ocorreu alucinação de input.', '']\n",
      "['', '', '0, pois a resposta está diretamente relacionada', ' à pergunta feita, abordando', ' o tema do crime de calúnia e sua caracterização', '. Embora a resposta fornecida', ' contenha', ' uma explicação, ela não', ' foge do tópico da', ' pergunta, que busca entender o que caracteriza o crime', ' de', ' calúnia. Portanto, não há alucinação de', ' input.']\n",
      "['', '', '0, pois a resposta está diretamente relacionada', ' à pergunta feita, abordando', ' o tema do crime de difamação e a exceção da', ' verdade, que é um aspecto', ' relevante para a questão. A', ' resposta não foge do tópico da pergunta, fornecendo', ' uma explicação pertinente sobre como o', ' código trata o crime de difamação quando há prova da', ' verdade.']\n",
      "['', '', '0, pois a resposta está relacionada ao', ' tema da pergunta, que é', ' sobre o crime', ' de dano qualificado no', ' Código Penal. Embora a resposta', ' tenha especificado um tipo de dano qualificado diferente do mencionado', ' na pergunta (sem violência vs', ' com violência ou meios cruéis', '), ainda assim aborda o mesmo', ' tema e conceito legal, não fugindo completamente do tópico', '. Portanto, não há al', 'ucinação de input.', '']\n",
      "['', '', '0 - A resposta está diretamente relacionada à', ' pergunta feita, pois aborda o', ' conceito de \"abolitio criminis\" e cita o artigo', ' do Código Penal pertinente ao tema, que é exatamente o que', ' foi questionado. Portanto, não houve alucinação de', ' input.']\n",
      "['', '', '1. Houve alucinação de input', ' porque a pergunta se refere ao \"exercício ilegal da medicina\",', ' enquanto a resposta menciona \"exerc', 'ício legal da medicina\". Além disso', ', a resposta introduz elementos não relacionados à pergunta original, como \"arte', ' rupestre\" e a menção a um \"ambiente esterilizado', '\", que não são relevantes para o contexto da pergunta sobre o crime de', ' exercício ilegal da medicina. Isso demonstra uma mudança no tópico e a', ' introdução de conceitos não solicitados, caracterizando alucinação de input', '.']\n",
      "['', '', '1, pois a resposta não está de', ' acordo com o regime fechado', ', que foi o regime questionado na pergunta, e sim', ' sobre o regime semiaberto. Além disso, a resposta', ' menciona uma condição que não está relacionada com o regime fechado', ', que é tirar nota 1000 em uma redação para', ' ter a permissão de trabalho externo', ' aprovada. A pergunta foi', ' específica sobre as condições para trabalho externo no regime fechado,', ' e a resposta não atendeu a', ' essa especificação, fugindo do tópico da pergunta.', '']\n",
      "['', '', '0 não houve alucinação de input,', ' pois a resposta está diretamente relacionada à pergunta feita, abordando o tema', ' \"crime de descaminho\" de forma coerente e pertinente, explic', 'ando seu conceito e características.', '']\n",
      "['', '', '1. Houve alucinação de input', ' porque a pergunta solicitou informações sobre as agravantes para o homicídio', ' qualificado de acordo com o Código', ' Penal, mas a resposta fornecida discutiu o conceito de homicídio', ' doloso e mencionou uma', ' condição relacionada ao emprego de', ' fogo ou explosivos, sem diretamente abordar as agravantes específicas', ' para homicídio qualificado conforme solicitado. A resposta desviou do', ' tópico específico da pergunta.', '']\n",
      "['', '', '1, pois a resposta dada não está relacionada', ' à pergunta feita. A pergunta foi sobre o crime doloso, mas', ' a resposta fala sobre crime culposo, o que caracteriza uma al', 'ucinação de input, já que', ' foge do tópico original da pergunta.', '']\n"
     ]
    },
    {
     "data": {
      "text/plain": [
       "['',\n",
       " '',\n",
       " '1, pois a resposta dada não está relacionada',\n",
       " ' à pergunta feita. A pergunta foi sobre o crime doloso, mas',\n",
       " ' a resposta fala sobre crime culposo, o que caracteriza uma al',\n",
       " 'ucinação de input, já que',\n",
       " ' foge do tópico original da pergunta.',\n",
       " '']"
      ]
     },
     "execution_count": 23,
     "metadata": {},
     "output_type": "execute_result"
    }
   ],
   "source": [
    "check_hallucinations(has_hallucination_llama, hallucination_type=\"input\", model_name=\"llama\")"
   ]
  },
  {
   "cell_type": "markdown",
   "id": "10153e01",
   "metadata": {},
   "source": [
    "### Alucinações contextuais"
   ]
  },
  {
   "cell_type": "markdown",
   "id": "fc1ee882",
   "metadata": {},
   "source": [
    "### Alucinações factuais"
   ]
  },
  {
   "cell_type": "markdown",
   "id": "7f3b3c73",
   "metadata": {},
   "source": [
    "#### Veredito"
   ]
  },
  {
   "cell_type": "markdown",
   "id": "5236b63c",
   "metadata": {},
   "source": [
    "# GPT"
   ]
  },
  {
   "cell_type": "markdown",
   "id": "ed1057ec",
   "metadata": {},
   "source": [
    "### Alucinações de input"
   ]
  },
  {
   "cell_type": "markdown",
   "id": "9edf2e59",
   "metadata": {},
   "source": [
    "### Alucinações contextuais"
   ]
  },
  {
   "cell_type": "markdown",
   "id": "7cdfe023",
   "metadata": {},
   "source": [
    "### Alucinações factuais"
   ]
  },
  {
   "cell_type": "markdown",
   "id": "ad8732f2",
   "metadata": {},
   "source": [
    "#### Veredito"
   ]
  }
 ],
 "metadata": {
  "kernelspec": {
   "display_name": "env",
   "language": "python",
   "name": "python3"
  },
  "language_info": {
   "codemirror_mode": {
    "name": "ipython",
    "version": 3
   },
   "file_extension": ".py",
   "mimetype": "text/x-python",
   "name": "python",
   "nbconvert_exporter": "python",
   "pygments_lexer": "ipython3",
   "version": "3.13.3"
  }
 },
 "nbformat": 4,
 "nbformat_minor": 5
}
